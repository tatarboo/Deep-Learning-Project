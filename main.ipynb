{
 "cells": [
  {
   "cell_type": "code",
   "execution_count": 1,
   "metadata": {},
   "outputs": [],
   "source": [
    "import sys\n",
    "import os\n",
    "import random\n",
    "import argparse\n",
    "import numpy as np\n",
    "import pandas as pd\n",
    "import torch\n",
    "from torch.utils.data import TensorDataset, DataLoader\n",
    "import torch.nn as nn\n",
    "import torch.nn.functional as F\n",
    "from tqdm import tqdm\n"
   ]
  },
  {
   "cell_type": "code",
   "execution_count": 2,
   "metadata": {},
   "outputs": [],
   "source": [
    "## Define arguments\n",
    "parser = argparse.ArgumentParser()\n",
    "parser.add_argument('--nns', type=str)\n",
    "# parser.add_argument('--run', type=int)\n",
    "# parser.add_argument('--gpu', type=str)\n",
    "parser.add_argument('--seed', type=int, default=42)\n",
    "args = parser.parse_args(['--nns', 'cnn',  '--seed', '42'])\n",
    "#you can use 'transformer', 'lstm', 'cnn' as nns\n"
   ]
  },
  {
   "cell_type": "code",
   "execution_count": 3,
   "metadata": {},
   "outputs": [],
   "source": [
    "## Parameters setting    \n",
    "# os.environ[\"CUDA_VISIBLE_DEVICES\"]=args.gpu\n",
    "seed = args.seed\n",
    "np.random.seed(seed)\n",
    "BATCH_SIZE = 128"
   ]
  },
  {
   "cell_type": "code",
   "execution_count": 4,
   "metadata": {},
   "outputs": [],
   "source": [
    "\n",
    "def makeDataloader(path, batch_size):\n",
    "    df = pd.read_pickle(path)\n",
    "    # Extract features and label\n",
    "    x1 = df['tcr_embeds']\n",
    "    x2 = df['epi_embeds']\n",
    "    label = df['binding']\n",
    "  \n",
    "    # Convert x1 and x2 to tensors\n",
    "    x1_tensor = torch.tensor(x1.tolist())\n",
    "    x2_tensor = torch.tensor(x2.tolist())\n",
    "    x_tensor = torch.cat((x1_tensor, x2_tensor), 1)\n",
    "    label_tensor = torch.tensor(label.tolist())\n",
    "    # Create a TensorDataset with x_tensor\n",
    "    dataset = TensorDataset(x_tensor,label_tensor)\n",
    "\n",
    "    # Create the DataLoader\n",
    "    dataloader = DataLoader(dataset, batch_size=BATCH_SIZE, shuffle=True)\n",
    "    \n",
    "    \n",
    "    \n",
    "    return dataloader"
   ]
  },
  {
   "cell_type": "code",
   "execution_count": 5,
   "metadata": {},
   "outputs": [
    {
     "name": "stderr",
     "output_type": "stream",
     "text": [
      "/tmp/ipykernel_154097/3564140736.py:9: UserWarning: Creating a tensor from a list of numpy.ndarrays is extremely slow. Please consider converting the list to a single numpy.ndarray with numpy.array() before converting to a tensor. (Triggered internally at ../torch/csrc/utils/tensor_new.cpp:275.)\n",
      "  x1_tensor = torch.tensor(x1.tolist())\n"
     ]
    }
   ],
   "source": [
    "\n",
    "#Dataloader\n",
    "# train\n",
    "dataloader = makeDataloader('/home/mxx/ZZY/TCR_E/ours/our_Data/trainData_1024.pkl',BATCH_SIZE)\n",
    "#test\n",
    "test_dataloader = makeDataloader('/home/mxx/ZZY/TCR_E/ours/our_Data/testData_1024.pkl',BATCH_SIZE)\n"
   ]
  },
  {
   "cell_type": "code",
   "execution_count": 21,
   "metadata": {},
   "outputs": [],
   "source": [
    "\n",
    "#Model\n",
    "\n",
    "\n",
    "class TransformerClassifier(nn.Module):\n",
    "    def __init__(self, input_dim, hidden_dim, num_layers, num_heads, num_classes=2):\n",
    "        super(TransformerClassifier, self).__init__()\n",
    "        self.encoder_layer = nn.TransformerEncoderLayer(d_model=input_dim, nhead=num_heads, dim_feedforward=hidden_dim)\n",
    "        self.transformer_encoder = nn.TransformerEncoder(self.encoder_layer, num_layers=num_layers)\n",
    "        self.classifier = nn.Linear(input_dim, num_classes)\n",
    "    \n",
    "    def forward(self, x):\n",
    "        x = x.unsqueeze(1)  \n",
    "        x = self.transformer_encoder(x)\n",
    "        x = x.squeeze(1)\n",
    "        out = self.classifier(x)\n",
    "        return out\n",
    "class CNNClassifier(nn.Module):\n",
    "    def __init__(self, num_classes=2):\n",
    "        super(CNNClassifier, self).__init__()\n",
    "        self.conv1 = nn.Conv1d(1, 64, kernel_size=5, stride=1)\n",
    "        self.fc = None\n",
    "        self.num_classes = num_classes\n",
    "\n",
    "    def forward(self, x):\n",
    "        x = x.unsqueeze(1)  # Add the channel dimension\n",
    "        x = F.relu(self.conv1(x))\n",
    "        if self.fc is None:\n",
    "            # Initialize the fully connected layer based on the output size of the convolutional layer\n",
    "            output_dim = x.view(x.size(0), -1).size(1)\n",
    "            self.fc = nn.Linear(output_dim, self.num_classes).to(x.device)\n",
    "        x = x.view(x.size(0), -1)  # Flatten the output\n",
    "        out = self.fc(x)\n",
    "        return out\n",
    "    \n",
    "class LSTMClassifier(nn.Module):\n",
    "    def __init__(self, input_dim, hidden_dim, num_layers, num_classes=2):\n",
    "        super(LSTMClassifier, self).__init__()\n",
    "        self.lstm = nn.LSTM(input_dim, hidden_dim, num_layers, batch_first=True)\n",
    "        self.fc = nn.Linear(hidden_dim, num_classes)\n",
    "    \n",
    "    def forward(self, x):\n",
    "        x = x.unsqueeze(1)  # Add the sequence dimension\n",
    "        out, _ = self.lstm(x)\n",
    "        out = out[:, -1, :]  # Take the last output for classification\n",
    "        out = self.fc(out)\n",
    "        return out\n"
   ]
  },
  {
   "cell_type": "code",
   "execution_count": 30,
   "metadata": {},
   "outputs": [
    {
     "name": "stdout",
     "output_type": "stream",
     "text": [
      "Log file created successfully.\n",
      "Start training...\n"
     ]
    },
    {
     "name": "stderr",
     "output_type": "stream",
     "text": [
      "/home/mxx/anaconda3/envs/myenv2/lib/python3.9/site-packages/torch/nn/modules/transformer.py:286: UserWarning: enable_nested_tensor is True, but self.use_nested_tensor is False because encoder_layer.self_attn.batch_first was not True(use batch_first for better inference performance)\n",
      "  warnings.warn(f\"enable_nested_tensor is True, but self.use_nested_tensor is False because {why_not_sparsity_fast_path}\")\n"
     ]
    }
   ],
   "source": [
    "# args.nns = 'transformer'# cnn lstm transformer\n",
    "\n",
    "import logging\n",
    "import datetime\n",
    "# Get the current date and time\n",
    "now = datetime.datetime.now()\n",
    "# Format the date and time\n",
    "now_str = now.strftime('%Y-%m-%d_%H-%M-%S')\n",
    "# Remove all handlers for Jupyter\n",
    "for handler in logging.root.handlers[:]:\n",
    "    logging.root.removeHandler(handler)\n",
    "\n",
    "# Set up logging\n",
    "log_path = '/home/mxx/ZZY/TCR_E/ours/log/'\n",
    "log_file = f'{args.nns}_training_{now_str}.log'\n",
    "logging.basicConfig(filename=os.path.join(log_path, log_file), level=logging.INFO, \n",
    "                    format='%(asctime)s %(levelname)s: %(message)s', \n",
    "                    datefmt='%Y-%m-%d %H:%M:%S')\n",
    "logging.info('Train and test loop log message') \n",
    "print(f'Log file created successfully.')\n",
    "\n",
    "\n",
    "## Training\n",
    "print('Start training...')\n",
    "import torch.nn as nn\n",
    "import torch.optim as optim\n",
    "# Set the device\n",
    "device = torch.device('cuda' if torch.cuda.is_available() else 'cpu')\n",
    "\n",
    "# Define the model\n",
    "if args.nns == 'transformer':\n",
    "    model = TransformerClassifier(input_dim = 2048, hidden_dim =512, num_layers =2, num_heads =4 , num_classes =2).to(device)\n",
    "elif args.nns == 'cnn':\n",
    "    model = CNNClassifier( num_classes =2).to(device)\n",
    "elif args.nns == 'lstm':\n",
    "    model = LSTMClassifier(input_dim = 2048, hidden_dim =512, num_layers =2, num_classes =2).to(device)\n",
    "    \n",
    "    \n",
    "# Define the loss function, epoch and optimizer\n",
    "criterion = nn.CrossEntropyLoss()\n",
    "optimizer = optim.Adam(model.parameters(), lr=0.01)\n",
    "num_epochs = 10\n",
    "#Initailize the best accuracy, train_losses and test_losses\n",
    "best_acc = 0.0\n",
    "train_losses = []\n",
    "test_losses = []\n",
    "best_recall = 0.0\n",
    "best_F1 = 0.0\n",
    "\n",
    "\n",
    "# Training and test loop\n",
    "for epoch in range(num_epochs):\n",
    "    # Training\n",
    "    model.train()\n",
    "    for x, label in dataloader:\n",
    "        x, label = x.float().to(device),label.to(device)\n",
    "        optimizer.zero_grad()\n",
    "        output = model(x)\n",
    "        acc = (output.argmax(dim=1) == label).float().mean()\n",
    "        loss = criterion(output, label)\n",
    "        loss.backward()\n",
    "        TP = ((output.argmax(dim=1) == 1) & (label == 1)).float().sum()\n",
    "        TP_FN = (label == 1).float().sum()\n",
    "        recall = TP/TP_FN\n",
    "        F1 = 2*acc*recall/(acc+recall)\n",
    "        optimizer.step()\n",
    "    train_losses.append(loss.item()) \n",
    "    logging.info(f'Epoch {epoch+1}/{num_epochs}, Train-Loss: {loss.item():.4f}, Train-Acc: {acc.item():.4f},Train-Recall: {recall.item():.4f} , Train-F1: {F1.item():.4f}')\n",
    "    \n",
    "    #Testing\n",
    "    model.eval()\n",
    "    with torch.no_grad():\n",
    "        for x, label in test_dataloader:\n",
    "            x, label = x.float().to(device), label.to(device)\n",
    "            output = model(x)\n",
    "            test_acc = (output.argmax(dim=1) == label).float().mean()\n",
    "            test_loss = criterion(output, label)\n",
    "            test_TP = ((output.argmax(dim=1) == 1) & (label == 1)).float().sum()\n",
    "            test_TP_FN = (label == 1).float().sum()\n",
    "            test_recall = test_TP/test_TP_FN\n",
    "            test_F1 = 2*test_acc*test_recall/(test_acc+test_recall)\n",
    "    test_losses.append(test_loss.item())\n",
    "    logging.info(f'Epoch {epoch+1}/{num_epochs}, Test-Loss: {test_loss.item():.4f}, Test-Acc: {test_acc.item():.4f},Test-Recall: {test_recall.item():.4f} , Test-F1: {test_F1.item():.4f}')\n",
    "    \n",
    "    #Save model\n",
    "    if test_acc > best_acc:\n",
    "        best_acc = test_acc\n",
    "        best_recall = test_recall\n",
    "        best_F1 = test_F1\n",
    "        model_dir = '/home/mxx/ZZY/TCR_E/ours/model/'+args.nns\n",
    "        os.makedirs(model_dir, exist_ok=True)  # Create the directory if it does not exist\n",
    "        torch.save(model.state_dict(), os.path.join(model_dir, '_best_model.pth'))\n",
    "        logging.info(f'Best model saved at epoch {epoch+1}, acc: {best_acc.item():.4f}')\n",
    "\n",
    "logging.info(f'Best test accuracy: {best_acc.item():.4f}, Best test recall: {best_recall.item():.4f}, Best test F1: {best_F1.item():.4f}')\n",
    "    "
   ]
  },
  {
   "cell_type": "code",
   "execution_count": 10,
   "metadata": {},
   "outputs": [
    {
     "data": {
      "image/png": "[encoded data removed]",
      "text/plain": [
       "<Figure size 640x480 with 1 Axes>"
      ]
     },
     "metadata": {},
     "output_type": "display_data"
    }
   ],
   "source": [
    "# Plot the losses\n",
    "import matplotlib.pyplot as plt\n",
    "plt.figure()\n",
    "plt.plot(range(num_epochs), train_losses, label='Train')\n",
    "plt.plot(range(num_epochs), test_losses, label='Test')\n",
    "plt.xlabel('Epoch')\n",
    "plt.ylabel('Loss')\n",
    "plt.title('Loss curves for model ' + args.nns)  # Add title\n",
    "plt.legend()\n",
    "#Save\n",
    "log_dir = '/home/mxx/ZZY/TCR_E/ours/log'\n",
    "os.makedirs(log_dir, exist_ok=True)  # Create the directory if it does not exist\n",
    "plt.savefig(os.path.join(log_dir, f'loss_curves_{args.nns}.png'))\n",
    "\n",
    "plt.show()"
   ]
  }
 ],
 "metadata": {
  "kernelspec": {
   "display_name": "myenv2",
   "language": "python",
   "name": "python3"
  },
  "language_info": {
   "codemirror_mode": {
    "name": "ipython",
    "version": 3
   },
   "file_extension": ".py",
   "mimetype": "text/x-python",
   "name": "python",
   "nbconvert_exporter": "python",
   "pygments_lexer": "ipython3",
   "version": "3.9.12"
  }
 },
 "nbformat": 4,
 "nbformat_minor": 2
}
